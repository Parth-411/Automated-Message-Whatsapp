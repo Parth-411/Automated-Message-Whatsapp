{
 "cells": [
  {
   "cell_type": "code",
   "execution_count": 1,
   "id": "57578d06",
   "metadata": {},
   "outputs": [],
   "source": [
    "from msg import msg_send"
   ]
  },
  {
   "cell_type": "code",
   "execution_count": 2,
   "id": "6ad1623b",
   "metadata": {},
   "outputs": [],
   "source": [
    "msg_send(\"Phone Number with Country Code\",\"Text Message\")"
   ]
  }
 ],
 "metadata": {
  "kernelspec": {
   "display_name": "Python 3 (ipykernel)",
   "language": "python",
   "name": "python3"
  },
  "language_info": {
   "codemirror_mode": {
    "name": "ipython",
    "version": 3
   },
   "file_extension": ".py",
   "mimetype": "text/x-python",
   "name": "python",
   "nbconvert_exporter": "python",
   "pygments_lexer": "ipython3",
   "version": "3.9.7"
  }
 },
 "nbformat": 4,
 "nbformat_minor": 5
}
